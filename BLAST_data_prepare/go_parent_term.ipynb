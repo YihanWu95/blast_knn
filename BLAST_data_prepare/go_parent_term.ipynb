{
 "cells": [
  {
   "cell_type": "code",
   "execution_count": 3,
   "metadata": {},
   "outputs": [],
   "source": [
    "import orangecontrib.bio.ontology\n",
    "import numpy as np\n"
   ]
  },
  {
   "cell_type": "code",
   "execution_count": 3,
   "metadata": {},
   "outputs": [
    {
     "name": "stdout",
     "output_type": "stream",
     "text": [
      "47340\n"
     ]
    }
   ],
   "source": [
    "def generate_go_parents_terms():\n",
    "    # looking for parents terms for each go term\n",
    "    # first downloading go.obo.txt from http://purl.obolibrary.org/obo/go.obo\n",
    "    obi= orangecontrib.bio.ontology.OBOOntology('/Users/WuYihan/Desktop/DLproject/githubcode/protein-fun-pred/go.obo.txt')\n",
    "    all_terms= obi.terms()\n",
    "\n",
    "    fout= open('go.obo.paired.txt', 'w')\n",
    "    fout.write('child_term\\tparent_term\\n')\n",
    "    diction = {}\n",
    "    for t in all_terms:\n",
    "        parents= obi.super_terms(t)\n",
    "        diction[t.id] = [] \n",
    "        if len(parents) == 0:\n",
    "            fout.write(t.id + '\\t' + 'NA' + '\\n')\n",
    "        else:\n",
    "            for p in parents:\n",
    "                diction[t.id].append(p.id)\n",
    "                fout.write(t.id + '\\t' + p.id + '\\n')\n",
    "    fout.close()\n",
    "    np.save(\"goterm_pairs.npy\",diction)\n",
    "    print(len(all_terms))\n",
    "    quit()"
   ]
  },
  {
   "cell_type": "code",
   "execution_count": 4,
   "metadata": {},
   "outputs": [],
   "source": [
    "go = np.load(\"goterm_pairs.npy\").item()"
   ]
  },
  {
   "cell_type": "code",
   "execution_count": 8,
   "metadata": {},
   "outputs": [],
   "source": [
    "def bfs_connected_component(graph, start):\n",
    "    # keep track of all visited nodes\n",
    "    explored = []\n",
    "    # keep track of nodes to be checked\n",
    "    queue = [start]\n",
    "\n",
    "    levels = {}         # this dict keeps track of levels\n",
    "    levels[start]= 0    # depth of start node is 0\n",
    "\n",
    "    visited= [start]     # to avoid inserting the same node twice into the queue\n",
    "\n",
    "    # keep looping until there are nodes still to be checked\n",
    "    while queue:\n",
    "       # pop shallowest node (first node) from queue\n",
    "        node = queue.pop(0)\n",
    "        explored.append(node)\n",
    "        neighbours = graph[node]\n",
    "\n",
    "        # add neighbours of node to queue\n",
    "        for neighbour in neighbours:\n",
    "            if neighbour not in visited:\n",
    "                queue.append(neighbour)\n",
    "                visited.append(neighbour)\n",
    "\n",
    "                levels[neighbour]= levels[node]+1\n",
    "                print(neighbour, \">>\", levels[neighbour])\n",
    "    return levels\n"
   ]
  }
 ],
 "metadata": {
  "kernelspec": {
   "display_name": "Python 3",
   "language": "python",
   "name": "python3"
  },
  "language_info": {
   "codemirror_mode": {
    "name": "ipython",
    "version": 3
   },
   "file_extension": ".py",
   "mimetype": "text/x-python",
   "name": "python",
   "nbconvert_exporter": "python",
   "pygments_lexer": "ipython3",
   "version": "3.6.4"
  }
 },
 "nbformat": 4,
 "nbformat_minor": 2
}

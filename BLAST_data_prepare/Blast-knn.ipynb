{
 "cells": [
  {
   "cell_type": "code",
   "execution_count": 1,
   "metadata": {},
   "outputs": [],
   "source": [
    "# from Bio.Blast import NCBIWWW\n",
    "from Bio import SeqIO\n",
    "from Bio.Blast import NCBIXML\n",
    "from Bio.Blast.Applications import NcbiblastpCommandline\n",
    "import xml.etree.ElementTree as ET\n",
    "import csv\n",
    "import numpy as np\n",
    "import os\n",
    "import pandas as pd\n",
    "import scipy.sparse as sp"
   ]
  },
  {
   "cell_type": "markdown",
   "metadata": {},
   "source": [
    "## 0. Path settings"
   ]
  },
  {
   "cell_type": "code",
   "execution_count": null,
   "metadata": {},
   "outputs": [],
   "source": [
    "general_path = '/usr/data/cvpr_shared/biology/function/CAFA3/training_data/clustered_70seqid/hhblits_n5_uniclust30_2016_03/BLAST_KNN/BLAST_data_prepare'\n",
    "# For perpare swissprot data\n",
    "swissprot_protein_with_go_path=general_path + r\"ProteinWithGo.xml\"\n",
    "swissprot_protein_with_go_output_path = general_path + r\"SwissprotProteinWithGo.csv\"\n",
    "\n",
    "# For Running BLAST\n",
    "# path where blastp is installed\n",
    "blastp = r\"/usr/local/ncbi/blast/bin/blastp\"\n",
    "# path of database for blastp, here I download swissprot\n",
    "swissprot = r\"../swissprot/swissprot\"\n",
    "\n",
    "outputfile = general_path+ r\"blast_result/\"\n",
    "# taking first 50 results\n",
    "num_alignments = 50\n",
    "# SwissprotProteinWithGo = np.load('SwissprotProteinWithGo.npy').item()"
   ]
  },
  {
   "cell_type": "markdown",
   "metadata": {},
   "source": [
    "## 1. Prepare swissprot data"
   ]
  },
  {
   "cell_type": "code",
   "execution_count": null,
   "metadata": {},
   "outputs": [],
   "source": [
    "def prepare_uniprot_swissprot_data(swissprot_protein_with_go_path,swissprot_protein_with_go_output_path):\n",
    "    '''\n",
    "    input: \n",
    "    swissprot_protein_with_go_path: swissprot_data, format: .xml,\n",
    "    each 'entry' contains children 'accession', 'dbReference(Goterms)'\n",
    "    This file is downloaded with 'curl -O ftp://ftp.uniprot.org/pub/databases/uniprot/current_release/knowledgebase/complete/uniprot_sprot.xml.gz'\n",
    "    and preprocessed with \n",
    "    'grep -e '^<entry' 'entry>' 'type=\"GO\"' 'accession' > ProteinWithGo.txt' ||\n",
    "    'sed 's/\\([0-9]*\"\\)\\(>\\)/\\1\\/\\2/g' ProteinWithGo.txt '\n",
    "    \n",
    "    swissprot_protein_with_go_output_path: path to save output\n",
    "    \n",
    "    output: npy file with key = accession, value = Goterms\n",
    "    '''\n",
    "    ns = '{http://uniprot.org/uniprot}'\n",
    "    tree = ET.parse(swissprot_protein_with_go_path)\n",
    "    root = tree.getroot()\n",
    "    proteins = root.findall(ns+'entry')\n",
    "    print('total number of proteins: ',len(proteins))\n",
    "    Uniprot={}\n",
    "    for child in root: #get all entries\n",
    "        dbReferences = child.findall(ns+'dbReference')#get go terms list\n",
    "        name = child.find(ns+'accession').text#get accession\n",
    "        Uniprot[name] = []\n",
    "        for dbReference in dbReferences:\n",
    "            if dbReference.attrib['type'] == 'GO':\n",
    "                Uniprot[name].append(dbReference.attrib['id'])\n",
    "    #Write result to npy file\n",
    "    # Save\n",
    "    np.save('SwissprotProteinWithGo.npy', Uniprot) \n",
    "\n"
   ]
  },
  {
   "cell_type": "code",
   "execution_count": null,
   "metadata": {},
   "outputs": [],
   "source": [
    "prepare_uniprot_swissprot_data(swissprot_protein_with_go_path,swissprot_protein_with_go_output_path)"
   ]
  },
  {
   "cell_type": "code",
   "execution_count": null,
   "metadata": {},
   "outputs": [],
   "source": [
    "def prepare_uniprot_swissprot_data_parents()\n",
    "    #Put Go parents term in SwissprotProteinWithGo\n",
    "    go = np.load(\"goterm_pairs.npy\")\n",
    "    SwissprotProteinWithGo = np.load('SwissprotProteinWithGo.npy').item()\n",
    "    for key in SwissprotProteinWithGo:\n",
    "        if SwissprotProteinWithGo[key]:\n",
    "            mid = set(SwissprotProteinWithGo[key])\n",
    "            for goterm in SwissprotProteinWithGo[key]:\n",
    "                if goterm in go:\n",
    "                    mid=mid.union(set(go[goterm]))\n",
    "            SwissprotProteinWithGo[key]=list(mid)\n",
    "    np.save('SwissprotProteinWithGoParents.npy', SwissprotProteinWithGo)         "
   ]
  },
  {
   "cell_type": "markdown",
   "metadata": {},
   "source": [
    "## 2. Run BLAST"
   ]
  },
  {
   "cell_type": "code",
   "execution_count": 87,
   "metadata": {},
   "outputs": [],
   "source": [
    "def blast_knn_output(inputfile,outputfile,swissprot,num_alignments,k):\n",
    "    \"\"\"install blast for mac: curl -O ftp://ftp.ncbi.nlm.nih.gov/blast/executables/LATEST/ncbi-blast-2.8.1+.dmg\n",
    "    download swissprot database: curl -O ftp://ftp.ncbi.nlm.nih.gov/blast/db/swissprot.tar.gz\n",
    "    input:\n",
    "    param: inputfile: path to .fasta file of proteins (one sequence in a single file)\n",
    "    param: outputfile: path to .xml to store blast consquence\n",
    "    param: swissprot: path to swissprot database (download online )\n",
    "    param: num_alignments: choose top X blast result for calculating score\n",
    "    #output: list of (knn_protein_id,score)\n",
    "    \"\"\"\n",
    "    #Command line tool, run blastp on terminal and write result to outputfile\n",
    "    blastp_cline = NcbiblastpCommandline(blastp,query=inputfile,db=swissprot, evalue=0.001,outfmt=5,num_alignments=num_alignments, out=outputfile)\n",
    "    blastp_cline()\n",
    "    #create handle for xml reader\n",
    "    result_handle = open(outputfile)\n",
    "    blast_record = NCBIXML.read(result_handle)\n",
    "    result = []\n",
    "    #expect value threshold\n",
    "    E_VALUE_THRESH = 0.04\n",
    "    i=0\n",
    "    for alignment in blast_record.alignments:\n",
    "        i+=1\n",
    "        #Taking first k proteins with highest score from blast result\n",
    "        if i>k:\n",
    "            break\n",
    "        else:\n",
    "            for hsp in alignment.hsps:\n",
    "                #delete alignment with high expect value\n",
    "                if hsp.expect < E_VALUE_THRESH:\n",
    "                    #since alignment.title is gi|124356|sp|Q84U76|..., the string Q84U76 is protein_accession and we need\n",
    "                    #to extract it\n",
    "                    sp = alignment.title.split('|')[3]\n",
    "                    sp = sp.split('.')[0]\n",
    "                    result.append((sp,hsp.score))\n",
    "\n",
    "        print('finish blast '+ seq.name +' with Swissprot',len(result))\n",
    "    return result\n"
   ]
  },
  {
   "cell_type": "code",
   "execution_count": 6,
   "metadata": {},
   "outputs": [],
   "source": [
    "def calculate_Blastknn_score(blast_knn_result,SwissprotProteinWithGo):\n",
    "    '''Calculate Blastknn_score for a single protein\n",
    "    input: \n",
    "    blast_knn_result: from blast_knn_output() \n",
    "    SwissprotProteinWithGo: from prepare_uniprot_swissprot_data()\n",
    "    output: list of (Goterm,score)\n",
    "    '''\n",
    "\n",
    "    Blastknn_score = {}\n",
    "    sum_score = 0\n",
    "    #weight average method to calculate score for each go terms.\n",
    "    for sp, score in blast_knn_result:\n",
    "        if SwissprotProteinWithGo.get(sp):\n",
    "            Goterms = SwissprotProteinWithGo[sp]\n",
    "            sum_score += score\n",
    "            for goterm in Goterms:\n",
    "                if Blastknn_score.get(goterm):\n",
    "                    Blastknn_score[goterm]+=score\n",
    "                else:\n",
    "                    Blastknn_score[goterm]=score\n",
    "    for goterm in Blastknn_score:\n",
    "        Blastknn_score[goterm] = Blastknn_score[goterm]/sum_score\n",
    "    return Blastknn_score"
   ]
  },
  {
   "cell_type": "code",
   "execution_count": 92,
   "metadata": {
    "scrolled": true
   },
   "outputs": [],
   "source": [
    "#calculate blast_knn score for all proteins\n",
    "def calculate_Blastknn_score_forall():\n",
    "    All_protein_result = {}\n",
    "    i=0\n",
    "    directory = r\"/usr/data/cvpr_shared/biology/function/CAFA3/training_data/clustered_70seqid/fa\"\n",
    "    #go through all files in the chosen directory\n",
    "    for filename in os.listdir(directory):\n",
    "        if filename.endswith(\".fasta\") :\n",
    "            #get name clust-xxxxx-xxxxx\n",
    "            name =  filename.split('.')[0]\n",
    "            i+=1\n",
    "            All_protein_result[name] = {}\n",
    "            path = os.path.join(directory, filename)\n",
    "            #read protein sequence\n",
    "            seq = SeqIO.read(path,\"fasta\")\n",
    "            All_protein_result[name]['id'] = seq.name\n",
    "            #blast with swissprot, store blast result in outputpath for futher usage\n",
    "            outputpath = outputfile+name+\".xml\"\n",
    "            result = blast_knn_output(path,outputpath,swissprot,num_alignments,20)\n",
    "            #calculate score of goterms\n",
    "            Blastknn_score = calculate_Blastknn_score(result,SwissprotProteinWithGoParents)\n",
    "\n",
    "            All_protein_result[name]['score'] = Blastknn_score\n",
    "            print('num '+str(i)+': finish calaulate blast_knn score of '+seq.name+name)\n",
    "    np.save('Blast_knn_result_20.npy', All_protein_result)"
   ]
  },
  {
   "cell_type": "code",
   "execution_count": 90,
   "metadata": {
    "scrolled": true
   },
   "outputs": [
    {
     "name": "stdout",
     "output_type": "stream",
     "text": [
      "{'GO:0016021': 1.0, 'GO:0016020': 0.2552013870365431, 'GO:0005750': 0.603360896238997, 'GO:0005739': 0.40430781541744465, 'GO:0005773': 0.20472125900240065, 'GO:0045153': 0.603360896238997, 'GO:0020037': 1.0, 'GO:0046872': 1.0, 'GO:0042776': 0.5533475593491598, 'GO:0006122': 0.603360896238997, 'GO:0005886': 0.2750733528941051, 'GO:0005774': 0.09555881568418245, 'GO:0005743': 0.46399039743931714, 'GO:0070469': 0.3966391037610029, 'GO:0009055': 0.3966391037610029, 'GO:0005634': 0.05048012803414244, 'GO:0045155': 0.05048012803414244, 'GO:0033762': 0.09802614030408109, 'GO:0005829': 0.05034675913576954, 'GO:0005758': 0.05034675913576954, 'GO:0005746': 0.05034675913576954, 'GO:0006119': 0.05034675913576954, 'GO:0022904': 0.033142171245665514}\n"
     ]
    }
   ],
   "source": [
    "Blast_knn_result_py = np.load('Blast_knn_result.npy').item()\n",
    "print(Blast_knn_result_py['cluster-09105-00002']['score'])\n"
   ]
  },
  {
   "cell_type": "code",
   "execution_count": 89,
   "metadata": {},
   "outputs": [
    {
     "name": "stdout",
     "output_type": "stream",
     "text": [
      "{'GO:0034464': 0.7426508509541001, 'GO:0060170': 0.9026989857314767, 'GO:0005929': 0.8433900636066701, 'GO:0000242': 0.9026989857314767, 'GO:0034452': 0.7426508509541001, 'GO:0003777': 0.9026989857314767, 'GO:0007098': 0.9026989857314767, 'GO:0060271': 0.641395908543923, 'GO:0034451': 0.3991748323878288, 'GO:0005814': 0.29843561973525873, 'GO:0005813': 0.3991748323878288, 'GO:0036064': 0.3577445418600653, 'GO:0005829': 0.3472580367887227, 'GO:0031514': 0.29843561973525873, 'GO:0005634': 0.395736634003782, 'GO:0032391': 0.29843561973525873, 'GO:0001917': 0.29843561973525873, 'GO:0001750': 0.29843561973525873, 'GO:0043014': 0.29843561973525873, 'GO:0048487': 0.29843561973525873, 'GO:0001103': 0.29843561973525873, 'GO:0030534': 0.29843561973525873, 'GO:0048854': 0.29843561973525873, 'GO:0021987': 0.29843561973525873, 'GO:0016358': 0.29843561973525873, 'GO:0060324': 0.29843561973525873, 'GO:0045444': 0.29843561973525873, 'GO:0060613': 0.29843561973525873, 'GO:0021766': 0.29843561973525873, 'GO:0051457': 0.29843561973525873, 'GO:0034454': 0.29843561973525873, 'GO:0000281': 0.29843561973525873, 'GO:0030837': 0.29843561973525873, 'GO:0038108': 0.29843561973525873, 'GO:0010629': 0.29843561973525873, 'GO:0034260': 0.29843561973525873, 'GO:0003085': 0.29843561973525873, 'GO:0001843': 0.29843561973525873, 'GO:0001764': 0.29843561973525873, 'GO:1905515': 0.29843561973525873, 'GO:0045494': 0.29843561973525873, 'GO:0035845': 0.29843561973525873, 'GO:0045724': 0.29843561973525873, 'GO:0040018': 0.29843561973525873, 'GO:0071539': 0.29843561973525873, 'GO:1903546': 0.29843561973525873, 'GO:0015031': 0.3577445418600653, 'GO:0060296': 0.29843561973525873, 'GO:0032465': 0.29843561973525873, 'GO:0019216': 0.29843561973525873, 'GO:1902855': 0.29843561973525873, 'GO:0051492': 0.29843561973525873, 'GO:0046548': 0.29843561973525873, 'GO:0007608': 0.29843561973525873, 'GO:0035176': 0.29843561973525873, 'GO:0007286': 0.29843561973525873, 'GO:0021756': 0.29843561973525873, 'GO:0021591': 0.29843561973525873, 'GO:0035869': 0.19718067732508165, 'GO:0097730': 0.19718067732508165, 'GO:0001947': 0.09902011346054668, 'GO:0046907': 0.09902011346054668, 'GO:0032402': 0.09902011346054668, 'GO:0000226': 0.19718067732508165, 'GO:0061512': 0.19718067732508165, 'GO:0033365': 0.19718067732508165, 'GO:0001895': 0.19718067732508165, 'GO:0050893': 0.09902011346054668, 'GO:0007601': 0.09902011346054668, 'GO:0016020': 0.09816056386453498, 'GO:0033210': 0.09816056386453498, 'GO:0008104': 0.09816056386453498, 'GO:0044321': 0.09816056386453498, 'GO:0030030': 0.0593089221248066, 'GO:0016757': 0.09730101426852329, 'GO:0009736': 0.04882241705346398, 'GO:0009740': 0.09730101426852329, 'GO:0009938': 0.04882241705346398, 'GO:0006486': 0.09730101426852329, 'GO:2000377': 0.04882241705346398}\n"
     ]
    }
   ],
   "source": [
    "print(All_protein_result['cluster-25302-00001']['score'])"
   ]
  },
  {
   "cell_type": "markdown",
   "metadata": {},
   "source": [
    "## Additional Information\n",
    "Since BLAST requires each protein having a single .fasta file, if the original dataset is not in such format you can use following code to transfer the dataset into single fasta files."
   ]
  },
  {
   "cell_type": "code",
   "execution_count": 73,
   "metadata": {},
   "outputs": [],
   "source": [
    "#generate fasta file of our training data\n",
    "proteins = pd.read_csv(\"data/proteins.csv\")\n",
    "coevo_p = np.load(\"coevo_protein.npy\")\n",
    "for i in range(len(proteins['name'])):\n",
    "    if proteins['name'][i] in coevo_p:\n",
    "        path = r\"train_sample_coevo/\"+proteins['name'][i]+\".fasta\"\n",
    "        ofile = open(path, \"w\")\n",
    "        ofile.write(\">\" + proteins['id'][i] + \"\\n\" +proteins['seq'][i] + \"\\n\")\n",
    "        ofile.close()"
   ]
  }
 ],
 "metadata": {
  "kernelspec": {
   "display_name": "Python 3",
   "language": "python",
   "name": "python3"
  },
  "language_info": {
   "codemirror_mode": {
    "name": "ipython",
    "version": 3
   },
   "file_extension": ".py",
   "mimetype": "text/x-python",
   "name": "python",
   "nbconvert_exporter": "python",
   "pygments_lexer": "ipython3",
   "version": "3.6.4"
  }
 },
 "nbformat": 4,
 "nbformat_minor": 1
}
